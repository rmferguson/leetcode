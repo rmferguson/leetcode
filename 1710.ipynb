{
 "cells": [
  {
   "cell_type": "markdown",
   "id": "23978567-dd5b-49a6-9d40-628b74caced8",
   "metadata": {},
   "source": [
    "# 1710. Maximum Units on a Truck\n",
    "\n",
    "[Leetcode 1710 Maximum Units on a Truck](https://leetcode.com/problems/maximum-units-on-a-truck/description/) is one of the problems on the [Amazon Questions List](https://leetcode.com/problem-list/7p5x763/?sorting=W3sic29ydE9yZGVyIjoiREVTQ0VORElORyIsIm9yZGVyQnkiOiJGUkVRVUVOQ1kifV0%3D&page=1)\n",
    "\n",
    "## In this notebook\n",
    "We're going to go over all the logic necessary to solve the problem (hopefully) as fast as possible, as well as (some of) the observations required to get there.\n",
    "\n",
    "The problem text:\n",
    "\n",
    "> You are assigned to put some amount of boxes onto one truck.\n",
    "> \n",
    "> You are given a 2D array boxTypes, where boxTypes<sub>i</sub >= [numberOfBoxes<sub>i</sub>, numberOfUnitsPerBox<sub>i</sub>]:\n",
    ">\n",
    "> - numberOfBoxes<sub>i</sub> is the number of boxes of type i.\n",
    "> - numberOfUnitsPerBox<sub>i</sub> is the number of units in each box of the type i.\n",
    ">\n",
    "> You are also given an integer truckSize, which is the maximum number of boxes that can be put on the truck. You can choose any boxes to put on the truck as long as the number of boxes does not exceed truckSize.\n",
    ">\n",
    ">Return the maximum total number of units that can be put on the truck.\n",
    ">\n",
    "> Constraints:\n",
    "> - 1 <= boxTypes.length <= 1000\n",
    "> - 1 <= numberOfBoxes<sub>i</sub>, numberOfUnitsPerBox<sub>i</sub> <= 1000\n",
    "> - 1 <= truckSize <= 10**6\n",
    "\n",
    "Makes perfect sense that Amazon would care about a question involving boxes.\n",
    "\n",
    "So where do we start?\n",
    "\n"
   ]
  },
  {
   "cell_type": "markdown",
   "id": "3dff7c6b-1296-481b-826d-2c1353911f00",
   "metadata": {},
   "source": [
    "# Observation(s) Step\n",
    "\n",
    "Let's examine those constraints again:\n",
    "> Constraints:\n",
    "> - 1 <= boxTypes.length <= 1000\n",
    "> - 1 <= numberOfBoxes<sub>i</sub>, numberOfUnitsPerBox<sub>i</sub> <= 1000\n",
    "> - 1 <= truckSize <= 10**6\n",
    "\n",
    "The box types and the number of boxes are both relatively small, clocking it at less than 1000 each.\n",
    "\n",
    "Truck size is slightly large, at 100_000 or less, so we'll call that medium.\n",
    "\n",
    "Let's also make the observation that any individual box can contain any number of units and doesn't take up additional space. It's still just a box, and we're only concerned about the number of boxes. Intuitively, a 12\"x12\"x12\" box full of books isn't any larger than a 12\"x12\"x12\" box of chocolate, even if the latter is far tastier.\n",
    "\n",
    "## Question: Do we just take as many of the biggest box as we can every time?\n",
    "\n",
    "Example 1:\n",
    "> Input: boxTypes = [[1,3],[2,2],[3,1]], truckSize = 4\n",
    "> \n",
    "> Output: 8\n",
    ">\n",
    "> Explanation: There are:\n",
    "> - 1 box of the first type that contains 3 units.\n",
    "> - 2 boxes of the second type that contain 2 units each.\n",
    "> - 3 boxes of the third type that contain 1 unit each.\n",
    "> You can take all the boxes of the first and second types, and one box of the third type.\n",
    "> The total number of units will be = (1 * 3) + (2 * 2) + (1 * 1) = 8.\n",
    "\n",
    "That all makes sense and they also showed their work by showing the numberOfUnitsPerBox going in descending order.\n",
    "\n",
    "So working through Example 2:\n",
    "\n",
    "> Input: boxTypes = [[5,10],[2,5],[4,7],[3,9]], truckSize = 10\n",
    "> - Only way to get to 91 would be to take the 50 from the 5 boxes of 10.\n",
    "> - Then take 27 from the 3 boxes of 9 (77 in 8 boxes) \n",
    "> - Then take 2 boxes of 7 for 14 (91 in 10 boxes)\n",
    "> - (5 * 10) + (3 * 9) + (2 * 7) => 50 + 27 + 14\n",
    ">Output: 91\n",
    "\n",
    "Hmm how about that they took from the biggest boxes in decending order again.\n",
    "\n",
    "Conclusion: **Yes**, take the biggest box every time.\n",
    "\n",
    "Okay so how do we get the biggest box?\n",
    "\n",
    "Sort it? Seems good let's try that.\n",
    "\n",
    "*But first*, check yourself with python weirdness:"
   ]
  },
  {
   "cell_type": "code",
   "execution_count": 1,
   "id": "d046deb2-bbd7-4b92-bdcc-a1823a01fe0a",
   "metadata": {},
   "outputs": [
    {
     "name": "stdout",
     "output_type": "stream",
     "text": [
      "[[2, 5], [3, 9], [4, 7], [5, 10]]\n",
      "None\n"
     ]
    }
   ],
   "source": [
    "box_types = [[5,10],[2,5],[4,7],[3,9]]\n",
    "also_box_types = box_types.sort()\n",
    "# What is it? Do you know?\n",
    "print(box_types)\n",
    "print(also_box_types)"
   ]
  },
  {
   "cell_type": "code",
   "execution_count": 2,
   "id": "488adad0-3b74-4674-b9ba-2e7e53a463f6",
   "metadata": {},
   "outputs": [
    {
     "name": "stdout",
     "output_type": "stream",
     "text": [
      "[[5, 10], [3, 9], [4, 7], [2, 5]]\n"
     ]
    }
   ],
   "source": [
    "box_types = [[5,10],[2,5],[4,7],[3,9]]\n",
    "box_types.sort(key=lambda x: x[1], reverse=True)\n",
    "# How about now?\n",
    "print(box_types)"
   ]
  },
  {
   "cell_type": "markdown",
   "id": "fbc19cda-6d0e-4740-b7e7-27d5a6e92be6",
   "metadata": {},
   "source": [
    "We're going to assume a couple things for our first pass.\n",
    "\n",
    "1. Python sorted this using [TimSort](https://en.wikipedia.org/wiki/Timsort). For our purposes, you can think of that as an O(N<sub>log</sub>N) algorithm<sup>[1]</sup>. This will factor into our final runtime. \n",
    "2. We're allowed to modify the array in place. Not all problems or interviewers would allow this. *If they don't*, then make a copy instead, e.g.:\n",
    "   ```python\n",
    "   boxes = sorted(box_types, key=lambda x:x[1], reverse=True)\n",
    "   ```\n",
    "\n",
    "[1]: Note that it doesn't really matter what sort Python *actually* used as long as it's also an O(N<sub>log</sub>N) algorithm. But at time of writing it was TimSort.\n",
    "\n",
    "Okay so, sort it and then take as many of the biggest boxes as we can until the truck is full."
   ]
  },
  {
   "cell_type": "code",
   "execution_count": 3,
   "id": "73e96caf-4340-4d32-8810-d589c856711a",
   "metadata": {},
   "outputs": [],
   "source": [
    "def maximum_units(box_types, truck_size) -> int:\n",
    "    # Sort by box size.\n",
    "    box_types.sort(key=lambda x: x[1], reverse=True)\n",
    "\n",
    "    units = 0\n",
    "    for num_box, units_per_box in box_types:\n",
    "        # We can't take more boxes than we can fit in our truck!\n",
    "        boxes_to_take = boxes_to_take = min(num_box, truck_size) \n",
    "        units += (boxes_to_take * units_per_box)\n",
    "        # Reduce remaining truck size.\n",
    "        truck_size -= boxes_to_take\n",
    "\n",
    "    return units\n",
    "\n",
    "assert maximum_units([[5,10],[2,5],[4,7],[3,9]], 10) == 91"
   ]
  },
  {
   "cell_type": "markdown",
   "id": "092d4e6a-8d4a-498f-9fb4-45b683cf71b4",
   "metadata": {},
   "source": [
    "And you know what? It turns out this solution is *pretty good*!\n",
    "\n",
    "At time of writing it beats 93.82% in Runtime and 96.33% in Memory.\n",
    "\n",
    "### But I wanna go faster\n",
    "\n",
    "But hold on. Let's stop for a second. What's the actual time complexity of what we have?"
   ]
  },
  {
   "cell_type": "code",
   "execution_count": 4,
   "id": "e680f43e-eacd-462c-ad13-744f9d11dce7",
   "metadata": {},
   "outputs": [],
   "source": [
    "def maximum_units(box_types, truck_size) -> int:\n",
    "    # Assuming len(box_types)==n\n",
    "    box_types.sort(key=lambda x: x[1], reverse=True) # O(n logn)\n",
    "\n",
    "    units = 0\n",
    "    for num_box, units_per_box in box_types: # O( len(n) * \n",
    "        # We can't take more boxes than we can fit in our truck!\n",
    "        boxes_to_take = boxes_to_take = min(num_box, truck_size) # O(1)\n",
    "        units += (boxes_to_take * units_per_box)                 # O(1) \n",
    "        truck_size -= boxes_to_take                              # O(1))\n",
    "    \n",
    "    # Loop complexity -> O(n)\n",
    "    # Total complexity -> O(n) + O(n logn) -> O(n logn)\n",
    "    return units\n",
    "\n",
    "assert maximum_units([[5,10],[2,5],[4,7],[3,9]], 10) == 91"
   ]
  },
  {
   "cell_type": "markdown",
   "id": "4e4dc805-31bc-437a-9b64-b244118afa9f",
   "metadata": {},
   "source": [
    "We have an O(n<sub>log</sub>n) algorithm already! That's... pretty good.\n",
    "\n",
    "If you were writing code for a job and stopped here, I would not blame you.\n",
    "\n",
    "We're just gonna try to cut down on runtime for the hell of it.\n",
    "\n",
    "With that all said, we gotta shave time off that \\*checks notes\\* hold on while I run this cell."
   ]
  },
  {
   "cell_type": "code",
   "execution_count": 5,
   "id": "8c1b805e-57af-492e-b1ab-6d2b8c64262a",
   "metadata": {},
   "outputs": [
    {
     "name": "stdout",
     "output_type": "stream",
     "text": [
      "1.17 μs ± 4.68 ns per loop (mean ± std. dev. of 7 runs, 1,000,000 loops each)\n"
     ]
    }
   ],
   "source": [
    "%%timeit\n",
    "\n",
    "maximum_units([[5,10],[2,5],[4,7],[3,9]], 10)"
   ]
  },
  {
   "cell_type": "markdown",
   "id": "34a02820-2f71-4cc7-b7dd-662e662dcefd",
   "metadata": {},
   "source": [
    "We gotta shave time off that \\*squints\\* microsecond long function call.\n",
    "\n",
    "Because of a Computer Science principle called ~\"Fucking Magic\"~ the \"[Time-Memory Trade-Off](https://en.wikipedia.org/wiki/Space%E2%80%93time_tradeoff)\", we can probably leverage extra memory to decrease runtime. \n",
    "\n",
    "Do you care if a solution that is twice as fast uses twice as much memory when you're sitting on 64GB of RAM? Probably not.\n",
    "\n",
    "Do you care if something takes 0.6μs instead of 1.2μs? ~Definitely not but-~"
   ]
  },
  {
   "cell_type": "markdown",
   "id": "1cc2b938-448a-4d64-ab63-23c70b7f2922",
   "metadata": {},
   "source": [
    "## Okay so how do we Go Faster\n",
    "\n",
    "I've actually tricked you. You see, we've been ignoring the magic trick of this problem, and unfortunately this problem was written by someone who thinks it's funny to occasionally split the boxes, despite the fact that that makes no sense.\n",
    "\n",
    "That means that these two are both syntactically correct ways to refer to the same batch boxes, even though the second one is insane:\n",
    "> [[5,10],[2,5],[4,7],[3,9]]\n",
    "> \n",
    "> [[1,10],[1,10],[1,10],[1,10],[1,10],[1,5],[1,5],[1,7],[1,7],[1,7],[1,7],[1,9],[1,9],[1,9]]\n",
    "\n",
    "As the cell below demonstrates, this is quite a bit slower with our current algorithm."
   ]
  },
  {
   "cell_type": "code",
   "execution_count": 6,
   "id": "caeb0775-2296-4183-ad9f-859fb7c23dbc",
   "metadata": {},
   "outputs": [
    {
     "name": "stdout",
     "output_type": "stream",
     "text": [
      "3.51 μs ± 16.7 ns per loop (mean ± std. dev. of 7 runs, 100,000 loops each)\n"
     ]
    }
   ],
   "source": [
    "%%timeit\n",
    "maximum_units([[1,10],[1,10],[1,10],[1,10],[1,10],[1,5],[1,5],[1,7],[1,7],[1,7],[1,7],[1,9],[1,9],[1,9]], 10)"
   ]
  },
  {
   "cell_type": "markdown",
   "id": "8f6be3c0-ba10-49e6-9ad0-b1e627a8eca0",
   "metadata": {},
   "source": [
    "That also means *that's* where our timesave actually is. Getting all valid inputs of boxes as close to the floor of ~1μs as possible, which is ~1/3 the running time of our code on insane inputs.\n",
    "\n",
    "(Yeah, I hate it too.)\n",
    "\n",
    "The good news is we already have a really solid foundation to work with! Plus, we know what we can do to speed it up. If we can leverage extra space to condense any input down to it's tightest representation, then we can use our PrettyGood<sup>TM</sup> algorithm and be on our merry way.\n",
    "\n",
    "Or, to codify that:"
   ]
  },
  {
   "cell_type": "code",
   "execution_count": 7,
   "id": "ac3c3d90-6b86-4acd-b012-4a2ad5a0a15f",
   "metadata": {},
   "outputs": [],
   "source": [
    "def maximum_units(boxTypes, truckSize) -> int:\n",
    "    def ensure_sane_input(box_types):\n",
    "        # This is the part that we need to implement\n",
    "        # Note that in our final code these won't be separate helper functions anymore.\n",
    "        return box_types\n",
    "\n",
    "    # Original algorithm, from above.\n",
    "    def fit_to_truck(box_types, truck_size):\n",
    "        box_types.sort(key=lambda x: x[1], reverse=True)\n",
    "        units = 0\n",
    "        for num_box, units_per_box in box_types:\n",
    "            boxes_to_take = boxes_to_take = min(num_box, truck_size)\n",
    "            units += boxes_to_take * units_per_box\n",
    "            truck_size -= boxes_to_take\n",
    "        return units\n",
    "    \n",
    "    return fit_to_truck(ensure_sane_input(boxTypes), truckSize)\n",
    "\n",
    "assert maximum_units([[5,10],[2,5],[4,7],[3,9]], 10) == 91"
   ]
  },
  {
   "cell_type": "markdown",
   "id": "d8deee93-4fbc-4a52-82fd-fa1f78fa1ed5",
   "metadata": {},
   "source": [
    "There's a few options here. My original solution used a dictionary, because dictionaries are great, and can be used for everything. But in this specific case, we can use the dictionary construct to condense all the box entries back together based on the units they contain."
   ]
  },
  {
   "cell_type": "code",
   "execution_count": 8,
   "id": "032ac09b-ed43-4b29-9b12-596967181501",
   "metadata": {},
   "outputs": [],
   "source": [
    "def maximum_units(box_types, truck_size):\n",
    "    better_boxes = {}\n",
    "\n",
    "    # +1 point here for recognizing I could have used a defaultdict.\n",
    "    for num_box, units_per_box in box_types:\n",
    "        try:\n",
    "            better_boxes[units_per_box] += num_box\n",
    "        except KeyError:\n",
    "            better_boxes[units_per_box] = num_box\n",
    "\n",
    "    queue = [k for k in better_boxes.keys()]\n",
    "    queue.sort(reverse=True)\n",
    "\n",
    "    units = 0\n",
    "    for item in queue:\n",
    "        boxes_to_take = min(better_boxes[item], truck_size)\n",
    "        units += item * boxes_to_take\n",
    "        truck_size -= boxes_to_take\n",
    "    \n",
    "    return units\n",
    "\n",
    "assert maximum_units([[5,10],[2,5],[4,7],[3,9]], 10) == 91"
   ]
  },
  {
   "cell_type": "code",
   "execution_count": 9,
   "id": "869ee79a-b650-462f-a86a-ad2e611f1b19",
   "metadata": {},
   "outputs": [
    {
     "name": "stdout",
     "output_type": "stream",
     "text": [
      "3.22 μs ± 17.1 ns per loop (mean ± std. dev. of 7 runs, 100,000 loops each)\n"
     ]
    }
   ],
   "source": [
    "%%timeit\n",
    "maximum_units([[1,10],[1,10],[1,10],[1,10],[1,10],[1,5],[1,5],[1,7],[1,7],[1,7],[1,7],[1,9],[1,9],[1,9]], 10)"
   ]
  },
  {
   "cell_type": "markdown",
   "id": "ca1e1e6c-c745-46fc-9cae-0d7dccf53613",
   "metadata": {},
   "source": [
    "Well that's disappointing! It wen't down, but not by much.\n",
    "\n",
    "Nah, just kidding! I tricked you again.\n",
    "\n",
    "You see, as mentioned earlier, Leetcode inputs are frequently written by insane people.\n",
    "\n",
    "That was NOT an insane input, it's a mere shadow.\n",
    "\n",
    "This code block below is an insane input:"
   ]
  },
  {
   "cell_type": "code",
   "execution_count": 10,
   "id": "ebb9b7ea-4335-42b0-830a-6a203abdf827",
   "metadata": {},
   "outputs": [
    {
     "name": "stdout",
     "output_type": "stream",
     "text": [
      "45824\n",
      "6291456\n"
     ]
    }
   ],
   "source": [
    "# THIS is an insane input.\n",
    "def two_to_the(n):\n",
    "    return 2 ** n\n",
    "    \n",
    "why = []\n",
    "why.extend([1, 127] for i in range(two_to_the(8)))\n",
    "why.extend([1, 255] for i in range(two_to_the(9)))\n",
    "why.extend([1, 512] for i in range(two_to_the(13)))\n",
    "why.extend([1, 127] for i in range(two_to_the(15)))\n",
    "why.extend([1, 1024] for i in range(two_to_the(12)))\n",
    "# This is somehow just shy of 46% of what we COULD get.\n",
    "truck_size = 2 ** 13\n",
    "\n",
    "print(len(why))\n",
    "\n",
    "# Verify later functions all have the expected output.\n",
    "expected = maximum_units(why, truck_size)\n",
    "print(expected)"
   ]
  },
  {
   "cell_type": "markdown",
   "id": "bd3e61ad-9e02-4655-aab0-b8718ae32534",
   "metadata": {},
   "source": [
    "So let's try our first couple implementations against this new input."
   ]
  },
  {
   "cell_type": "code",
   "execution_count": 11,
   "id": "47772aee-36d6-4bae-bf9c-676838fd289b",
   "metadata": {},
   "outputs": [],
   "source": [
    "def initial_solution(box_types, truck_size) -> int:\n",
    "    box_types.sort(key=lambda x: x[1], reverse=True)\n",
    "    \n",
    "    units = 0\n",
    "    for num_box, units_per_box in box_types:\n",
    "        boxes_to_take = boxes_to_take = min(num_box, truck_size)\n",
    "        units += boxes_to_take * units_per_box\n",
    "        truck_size -= boxes_to_take\n",
    "\n",
    "    return units\n",
    "\n",
    "def dict_joke(box_types, truck_size):\n",
    "    better_boxes = {}\n",
    "    for num_box, units_per_box in box_types:\n",
    "        try:\n",
    "            better_boxes[units_per_box] += num_box\n",
    "        except KeyError:\n",
    "            better_boxes[units_per_box] = num_box\n",
    "    queue = [k for k in better_boxes.keys()]\n",
    "    queue.sort(reverse=True)\n",
    "\n",
    "    units = 0\n",
    "    for item in queue:\n",
    "        boxes_to_take = min(better_boxes[item], truck_size)\n",
    "        units += item * boxes_to_take\n",
    "        truck_size -= boxes_to_take\n",
    "    \n",
    "    return units\n",
    "\n",
    "assert initial_solution(why, truck_size) == expected\n",
    "assert dict_joke(why, truck_size) == expected"
   ]
  },
  {
   "cell_type": "code",
   "execution_count": 12,
   "id": "f11be4ad-6b80-4c22-8556-9ea413ecf598",
   "metadata": {},
   "outputs": [
    {
     "name": "stdout",
     "output_type": "stream",
     "text": [
      "9.72 ms ± 85 μs per loop (mean ± std. dev. of 7 runs, 100 loops each)\n"
     ]
    }
   ],
   "source": [
    "%%timeit\n",
    "initial_solution(why, truck_size)"
   ]
  },
  {
   "cell_type": "code",
   "execution_count": 13,
   "id": "71021303-369c-43c9-b7be-a02f1cdf92a9",
   "metadata": {},
   "outputs": [
    {
     "name": "stdout",
     "output_type": "stream",
     "text": [
      "3.51 ms ± 19.7 μs per loop (mean ± std. dev. of 7 runs, 100 loops each)\n"
     ]
    }
   ],
   "source": [
    "%%timeit\n",
    "dict_joke(why, truck_size)"
   ]
  },
  {
   "cell_type": "markdown",
   "id": "3cd46d22-6231-4076-bc6c-d8a28393a351",
   "metadata": {},
   "source": [
    "So with awful AWFUL input, we can see that our dict_cache_solution is more than 2.5x as fast ~on my machine~!\n",
    "\n",
    "We may want to consider other strategies as well. Here's two:\n",
    "- What about a heap? We could fill our queue while we condense input by sorting by the units.\n",
    "- What if we made our queue while we built the cache by insorting the values to the right places? ~Wait that's just the heap again.~\n"
   ]
  },
  {
   "cell_type": "code",
   "execution_count": 14,
   "id": "54589498-6edd-4010-a566-f649b5793314",
   "metadata": {},
   "outputs": [],
   "source": [
    "from heapq import heappop, heappush\n",
    "\n",
    "def heaping_dict(box_types, truck_size):\n",
    "    better_boxes = {}\n",
    "    queue = []\n",
    "    remaining_space = int(truck_size)\n",
    "\n",
    "    for num_box, units_per_box in box_types:\n",
    "        try:\n",
    "            better_boxes[units_per_box] += num_box\n",
    "        except KeyError:\n",
    "            better_boxes[units_per_box] = num_box\n",
    "            # Mildly cursed inverse to make it a max heap\n",
    "            heappush(queue, -units_per_box)\n",
    "\n",
    "    units = 0\n",
    "    while remaining_space:\n",
    "        # uncurse value\n",
    "        item = -heappop(queue)\n",
    "        boxes_to_take = min(better_boxes[item], truck_size)\n",
    "        units += item * boxes_to_take\n",
    "        truck_size -= boxes_to_take\n",
    "\n",
    "        if not queue:\n",
    "            break\n",
    "    \n",
    "    return units\n",
    "\n",
    "\n",
    "from bisect import insort\n",
    "\n",
    "def bisect_dict(box_types, truck_size):\n",
    "    better_boxes = {}\n",
    "    queue = []\n",
    "\n",
    "    for num_box, units_per_box in box_types:\n",
    "        try:\n",
    "            better_boxes[units_per_box] += num_box\n",
    "        except KeyError:\n",
    "            better_boxes[units_per_box] = num_box\n",
    "            insort(queue, units_per_box) \n",
    "\n",
    "    units = 0\n",
    "    for item in iter(queue[::-1]):\n",
    "        boxes_to_take = min(better_boxes[item], truck_size)\n",
    "        units += item * boxes_to_take\n",
    "        truck_size -= boxes_to_take\n",
    "    \n",
    "    return units\n",
    "\n",
    "assert bisect_dict(why, truck_size) == expected\n",
    "assert heaping_dict(why, truck_size) == expected"
   ]
  },
  {
   "cell_type": "code",
   "execution_count": 15,
   "id": "b9738076-cee5-4590-bf1e-12806cac2e78",
   "metadata": {},
   "outputs": [
    {
     "name": "stdout",
     "output_type": "stream",
     "text": [
      "3.55 ms ± 19.3 μs per loop (mean ± std. dev. of 7 runs, 100 loops each)\n"
     ]
    }
   ],
   "source": [
    "%%timeit\n",
    "heaping_dict(why, truck_size)"
   ]
  },
  {
   "cell_type": "code",
   "execution_count": 16,
   "id": "d32c0896-f0e0-4377-b7b7-cc226504ba26",
   "metadata": {},
   "outputs": [
    {
     "name": "stdout",
     "output_type": "stream",
     "text": [
      "3.58 ms ± 59.2 μs per loop (mean ± std. dev. of 7 runs, 100 loops each)\n"
     ]
    }
   ],
   "source": [
    "%%timeit\n",
    "bisect_dict(why, truck_size)"
   ]
  },
  {
   "cell_type": "markdown",
   "id": "90c46b1b-69f0-4f3e-bcce-32fb44eb9c5d",
   "metadata": {},
   "source": [
    "At least on my machine, it seems like all these solutions are roughly equal. Notably, the `dict_joke` version has the lowest std. dev. between the variations on my machine, but they're all roughly 3.50ms.\n",
    "\n",
    "Which kind of makes sense, right? With a basic pattern of \"Iterate, sort, iterate\", we're not able to do do much better even if we do change around our structures. Maybe we could implement some non-comparitive sort like [Radix Sort](https://en.wikipedia.org/wiki/Radix_sort) but doing that in Python sounds like the kind of thing that would make me start drinking on the job.\n",
    "\n",
    "This isn't every way you could solve this problem, but I do wanna to hammer in that bit about complexity analysis again. Notice how these are ALL O(n<sub>log</sub>n)? I think there's two takeaways from this:\n",
    "- Not all algorithms of the same complexity class have similar real world runtimes.\n",
    "- Implementation details do matter but a \"Good Enough\" implementation is probably... good enough.\n",
    "\n",
    "And that's everything I care to know about this Leetcode problem. Sorry for tricking you earlier. <sub>Twice.</sub>\n",
    "\n",
    "Happy coding!"
   ]
  }
 ],
 "metadata": {
  "kernelspec": {
   "display_name": "Python 3 (ipykernel)",
   "language": "python",
   "name": "python3"
  },
  "language_info": {
   "codemirror_mode": {
    "name": "ipython",
    "version": 3
   },
   "file_extension": ".py",
   "mimetype": "text/x-python",
   "name": "python",
   "nbconvert_exporter": "python",
   "pygments_lexer": "ipython3",
   "version": "3.11.4"
  }
 },
 "nbformat": 4,
 "nbformat_minor": 5
}

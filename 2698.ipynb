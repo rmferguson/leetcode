{
 "cells": [
  {
   "cell_type": "markdown",
   "id": "6ac9eee4-165e-42de-87c5-f528dbb247b5",
   "metadata": {},
   "source": [
    "# 2698. Find the Punishment Number of an Integer\n",
    "\n",
    "[2698. Find the Punishment Number of an Integer](https://leetcode.com/problems/find-the-punishment-number-of-an-integer/description/) is a leetcode problem with one of the most threatening names I've ever seen. The malicious aura here is palpable.\n",
    "\n",
    "I also hate it. It has one of the magic tricks that I often malign. But let's take a look at the problem before I get more editorial.\n",
    "\n",
    "> Given a positive integer `n`, return the punishment number of `n`.\n",
    "> The punishment number of `n` is defined as the sum of the squares of all integers `i` such that:\n",
    ">    - 1 <= i <= n\n",
    ">    - The decimal representation of `i * i` can be partitioned into contiguous substrings such that the sum of the integer values of these substrings equals i.\n",
    "\n",
    "> Example 1:\n",
    "> Input: `n = 10`\n",
    "> Output: 182\n",
    "> Explanation: There are exactly 3 integers `i` in the range [1, 10] that satisfy the conditions in the statement:\n",
    "> - 1 since 1 * 1 = 1\n",
    "> - 9 since 9 * 9 = 81 and 81 can be partitioned into 8 and 1 with a sum equal to 8 + 1 == 9.\n",
    "> - 10 since 10 * 10 = 100 and 100 can be partitioned into 10 and 0 with a sum equal to 10 + 0 == 10.\n",
    "> Hence, the punishment number of 10 is 1 + 81 + 100 = 182\n",
    "\n",
    "> Example 2:\n",
    "> Input: `n = 37`\n",
    "> Output: 1478\n",
    "> Explanation: There are exactly 4 integers `i` in the range [1, 37] that satisfy the conditions in the statement:\n",
    "> - 1 since 1 * 1 = 1. \n",
    "> - 9 since 9 * 9 = 81 and 81 can be partitioned into 8 + 1. \n",
    "> - 10 since 10 * 10 = 100 and 100 can be partitioned into 10 + 0. \n",
    "> - 36 since 36 * 36 = 1296 and 1296 can be partitioned into 1 + 29 + 6.\n",
    "> Hence, the punishment number of 37 is 1 + 81 + 100 + 1296 = 1478\n",
    ">\n",
    ">Constraints:\n",
    ">    1 <= n <= 1000\n",
    "\n",
    "From here it should be clear why I hate this problem. That's right: whoever wrote the examples used the word \"Hence\" like they're better than you.\n",
    "\n",
    "But also because I maintain that any coding question that could have an OEIS page is a bad interview problem. Like [Fibonacci Numbers](https://oeis.org/A000045). If you got asked to do Fibonacci Numbers in an interview, you'd laugh, right?\n",
    "\n",
    "But at any rate, this is a 2 part problem:\n",
    "1. Find all the numbers `i` between 1 and `n` that qualify.\n",
    "2. Square all qualified numbers and return the sum. (e.g. 1+81+100 = 182)\n",
    "\n",
    "Let's also note that Example 2 was chosen very deliberately. It's *almost* the next number after 10 where the punishment number is any bigger, which would have been 36. That's right, all pn(n) where 10 < n < 36, pn(n) = 182.\n",
    "\n",
    "As for the constraints, it seems to be mostly because square numbers can get away from you. 10,000<sup>2</sup> would add another 2 zeroes and 100,000<sup>2</sup> would no longer fit in a 32 bit integer.\n",
    "\n",
    "So, to codify what we have:\n"
   ]
  },
  {
   "cell_type": "code",
   "execution_count": 1,
   "id": "f8f1799b-dd44-4031-a02b-2aa1964db4e8",
   "metadata": {},
   "outputs": [],
   "source": [
    "def punishment_numbers(n):\n",
    "    def can_partition(num, i):\n",
    "        # if i * i can be partitioned \n",
    "        # into contiguous substrings \n",
    "        # such that the sum of the integer\n",
    "        # values of these substrings equals i.\n",
    "        return False\n",
    "    \n",
    "    def qualify_numbers(n):\n",
    "        for i in range(n):\n",
    "            if can_partition(str(i**2), i):\n",
    "                yield i\n",
    "\n",
    "    def square_and_sum(qualified):\n",
    "        return sum(i ** 2 for i in qualified)\n",
    "\n",
    "    return square_and_sum(qualify_numbers(n))"
   ]
  },
  {
   "cell_type": "markdown",
   "id": "3f23a008-0351-4162-94ca-60ed5e8dee78",
   "metadata": {},
   "source": [
    "Okay so everything except the `can_partition` part is basically done. We just need to implement that. How hard could it be?\n",
    "\n",
    "That's only half-foreshadowing for later.\n",
    "\n",
    "Let's re-examine those examples. Just because we read them doesn't mean we understand their implications. Specifically, we're going to look at the numbers we were told qualify and their squares: 1:1, 9:81, 10:100 and 36:1296.\n",
    "\n",
    "With your beautiful human eyes it's trivially easy to see things like `1==1` and `10+0 == 10`, but we need to be able to tell a computer how to do that.\n",
    "\n",
    "So let's pretend for a second we lack those human eyes and go back to AP Algebra.\n",
    "\n",
    "- Given x-1=0, solve for x.\n",
    "- `x+1-1=0+1` Add x to both sides...\n",
    "- `x=1` Collapse terms and oh dang x was 1.\n",
    "\n",
    "We'll need to do something similar with our numbers to see if they qualify. Let's take 36 for example:\n",
    "\n",
    "- `36 * 36 = 1296` Initialize\n",
    "- `36 = '1296'` Cast to string, drop the extra term.\n",
    "We know from the example the valid partition here is 1|29|6.\n",
    "- `36 - 1 = '1296'[1:]` \"take\" 1 from both sides.\n",
    "- `35 = '296'` Settle terms\n",
    "- `35 - 6 = '296'[:2]` Take the 6 off this time\n",
    "- `29 = 29` Settle terms.\n",
    "- `29 - 29 = '29'[:2]` Take the entire string this time.\n",
    "- `0 = ''`. True. 36 qualifies.\n",
    "\n",
    "**Figuring out how to write this in code is dumb magic. Either you see it or you don't**.\n",
    "\n"
   ]
  },
  {
   "cell_type": "markdown",
   "id": "2f81e150-e6af-416d-8a7f-c1f07b6d05d5",
   "metadata": {},
   "source": [
    "So while we write our function, we'll need to:\n",
    "- Take a str repr of a number\n",
    "- Keep track of a moving target (36->35->29->0)\n",
    "- Take from either the left or the right some amount of digits\n",
    "- Return `True` if there is a path that finds `0=''` or that our target number is the same as our search number.\n",
    "- Return `False` if we did not find such a path.\n",
    "\n",
    "Let's take another look at that example.\n",
    "\n",
    "> - `36 - 1 = '1296'[1:]` \"take\" 1 from both sides.\n",
    "> - `35 = '296'` Settle terms\n",
    "> - `35 - 6 = '296'[:2]` Take the 6 off this time\n",
    "> - `29 = 29` Settle terms.\n",
    "\n",
    "What if we did it with variables?\n",
    "\n",
    "```\n",
    "i = 36, i ** 2 = 1296\n",
    "target = 36, str = '1296'\n",
    "target = target - 6, str = str[:-1]\n",
    "\n",
    "target = 30, str = '129'\n",
    "target = target - 1, str = str[1:]\n",
    "\n",
    "target = 29, str = '29'\n",
    "target = 29-29, str = ''\n",
    "```\n",
    "\n",
    "Hey wait a second that's secretly a recurrence relation. See all the duplicated work?\n",
    "\n",
    "That means we need to write a recursive function. Hooray!\n",
    "\n",
    "Let's also consider some INVALID paths.\n",
    "```\n",
    "1. target = 36, str = '1296'\n",
    "2. target = target - 1, str = str[1:]\n",
    "3. target = 36, str = '296'\n",
    "4. target = target - 2, str = str[1:]\n",
    "5. target = 36, str = '96'\n",
    "6. target = target - 9, str = str[1:]\n",
    "7. target = 36, str = '6'\n",
    "...\n",
    "```\n",
    "But if at step 4, we had chosen 2 to slice with instead, we would have a valid path.\n",
    "\n",
    "So we need to increment over our string and attempt each index.\n",
    "\n",
    "Finally, imagine if we subtracted 123 and had '6' left in our string. 36-123 is obviously way below 36 right? We missed our mark.\n",
    "\n",
    "If our target ever becomes negative, we overshot and can safely say it's *not* a qualifying number.\n",
    "\n",
    "Okay Code Time<sup>TM</sup>."
   ]
  },
  {
   "cell_type": "code",
   "execution_count": 2,
   "id": "917874b5-1505-447c-9c91-3f1fe9c1b2fe",
   "metadata": {},
   "outputs": [
    {
     "data": {
      "text/plain": [
       "182"
      ]
     },
     "execution_count": 2,
     "metadata": {},
     "output_type": "execute_result"
    }
   ],
   "source": [
    "from functools import cache\n",
    "\n",
    "def punishment_numbers(n):\n",
    "\n",
    "    @cache\n",
    "    def can_partition(str_num, target):\n",
    "        if str_num=='' and target==0:\n",
    "            return True\n",
    "        if target < 0:\n",
    "            return False \n",
    "\n",
    "        for i in range(len(str_num)):\n",
    "            l_part = str_num[:i+1]\n",
    "            r_part = str_num[i+1:]\n",
    "            assert l_part+r_part == str_num\n",
    "            target_adjustment = int(l_part)\n",
    "            if can_partition(r_part, target-target_adjustment):\n",
    "                return True\n",
    "        \n",
    "        return False\n",
    "    \n",
    "    def qualify_numbers(n):\n",
    "        for i in range(1, n+1):\n",
    "            if can_partition(str(i**2), i):\n",
    "                yield i\n",
    "\n",
    "    def square_and_sum(qualified):\n",
    "        return sum(i ** 2 for i in qualified)\n",
    "\n",
    "    return square_and_sum(qualify_numbers(n))\n",
    "\n",
    "punishment_numbers(10)"
   ]
  },
  {
   "cell_type": "code",
   "execution_count": 3,
   "id": "7651f8d0-0fe1-4001-9bfe-af66c38e73b8",
   "metadata": {},
   "outputs": [
    {
     "name": "stdout",
     "output_type": "stream",
     "text": [
      "18.4 μs ± 368 ns per loop (mean ± std. dev. of 7 runs, 100,000 loops each)\n"
     ]
    }
   ],
   "source": [
    "%%timeit\n",
    "punishment_numbers(10)"
   ]
  },
  {
   "cell_type": "markdown",
   "id": "80e5bb5e-db1b-4963-b68e-b4e84102c4ad",
   "metadata": {},
   "source": [
    "We did it, Patrick! We saved the city.\n",
    "\n",
    "Well, actually, there's another bit of magic there that I'm just kinda glossing over.\n",
    "\n",
    "This part:\n",
    "```python\n",
    "        for i in range(0, len(str_num)):\n",
    "            l_part = str_num[:i+1]\n",
    "            r_part = str_num[i+1:]\n",
    "            assert l_part+r_part == str_num\n",
    "            # Why chose the left side as the adjustment?\n",
    "            target_adjustment = int(l_part)\n",
    "            # Why always check if we can partition the remaining right side?\n",
    "            if can_partition(r_part, target-target_adjustment): \n",
    "                return True\n",
    "```\n",
    "\n",
    "Essentially the code as written will always have a valid l_part. As we iterate over 100, we try against 1, 10 and 100. What's left on the right is 00, 0 and an empty string.\n",
    "\n",
    "However, there's more Magic✨ we can do with this problem.\n",
    "\n",
    "Did you know by repeatedly summing the digits of a number, you can find out if it's divisible by nine? [Effed up but True](https://en.wikipedia.org/wiki/Casting_out_nines). It turns out that any number this works for will have the same digital root as its square, which sounds like something I just made up but I promise I didn't."
   ]
  },
  {
   "cell_type": "code",
   "execution_count": 4,
   "id": "de19653a-6c59-48e5-b8ad-6b2225cbebb8",
   "metadata": {},
   "outputs": [
    {
     "name": "stdout",
     "output_type": "stream",
     "text": [
      "\t1\t1\tshare digital root 1\n",
      "\t9\t81\tshare digital root 9\n",
      "\t10\t100\tshare digital root 1\n",
      "\t18\t324\tshare digital root 9\n",
      "\t19\t361\tshare digital root 1\n",
      "\t27\t729\tshare digital root 9\n",
      "\t28\t784\tshare digital root 1\n",
      "\t36\t1296\tshare digital root 9\n",
      "\t37\t1369\tshare digital root 1\n"
     ]
    }
   ],
   "source": [
    "def cast_out_nines(num):\n",
    "    n = str(num)\n",
    "    cast = sum(int(i) for i in n)\n",
    "    return cast\n",
    "\n",
    "def repeat_nines(num):\n",
    "    n = cast_out_nines(num)\n",
    "    while n > 9:\n",
    "        n = cast_out_nines(n)\n",
    "    return n\n",
    "    \n",
    "for i in range(1, 40):\n",
    "    digital_root = repeat_nines(i)\n",
    "    if digital_root == repeat_nines(i** 2):\n",
    "        print(f\"\\t{i}\\t{i**2}\\tshare digital root {digital_root}\")"
   ]
  },
  {
   "cell_type": "markdown",
   "id": "c487622b-871f-4919-91e5-7fd3fc369fda",
   "metadata": {},
   "source": [
    "Yup there's 1, 9, 10 and 36.\n",
    "\n",
    "But there's also a new pattern. All of those numbers, which we know to be Punishment Qualified, have a digital root of either 1 or 9.\n",
    "\n",
    "But again that's why I consider this Magic Bullshit✨. If you know that, this question is easy. If you don't know that you read a Jupyter Notebook out of some dudes GitHub repo desparately trying to understand the problem before your interview at Amazon tomorrow morning.\n",
    "\n",
    "Moving on, that means we can simplify our search and cut the problem space down like 80%."
   ]
  },
  {
   "cell_type": "code",
   "execution_count": 5,
   "id": "ef2ee31a-24c9-4b83-bfdd-19f4e491bb65",
   "metadata": {},
   "outputs": [
    {
     "data": {
      "text/plain": [
       "182"
      ]
     },
     "execution_count": 5,
     "metadata": {},
     "output_type": "execute_result"
    }
   ],
   "source": [
    "from functools import cache, partial\n",
    " # <3 u partial\n",
    "mod_filter = partial(filter, lambda x: x % 9 == 0 or x % 9 ==1)\n",
    "\n",
    "def punishment_numbers(n):\n",
    "\n",
    "    @cache\n",
    "    def can_partition(str_num, target):\n",
    "        if str_num=='' and target==0:\n",
    "            return True\n",
    "        if target < 0:\n",
    "            return False \n",
    "\n",
    "        for i in range(len(str_num)):\n",
    "            l_part = str_num[:i+1]\n",
    "            r_part = str_num[i+1:]\n",
    "            target_adjustment = int(l_part)\n",
    "            if can_partition(r_part, target-target_adjustment):\n",
    "                return True\n",
    "        \n",
    "        return False\n",
    "    \n",
    "    def qualify_numbers(n):\n",
    "        for i in mod_filter(range(1, n+1)):\n",
    "            if can_partition(str(i**2), i):\n",
    "                yield i\n",
    "\n",
    "    def square_and_sum(qualified):\n",
    "        return sum(i ** 2 for i in qualified)\n",
    "\n",
    "    return square_and_sum(qualify_numbers(n))\n",
    "\n",
    "punishment_numbers(10)"
   ]
  },
  {
   "cell_type": "code",
   "execution_count": 6,
   "id": "f0de66d1-8797-4c6e-b5ed-f7831cac3ea6",
   "metadata": {},
   "outputs": [
    {
     "name": "stdout",
     "output_type": "stream",
     "text": [
      "8.89 μs ± 53.6 ns per loop (mean ± std. dev. of 7 runs, 100,000 loops each)\n"
     ]
    }
   ],
   "source": [
    "%%timeit\n",
    "punishment_numbers(10)"
   ]
  },
  {
   "cell_type": "markdown",
   "id": "f06c08b4-9563-4970-ac65-c9996043c298",
   "metadata": {},
   "source": [
    "Now at this point you're probably like\n",
    "> Robert, this is great. Surely the last step to getting the FASTEST solution on Leetcode, is to convert our recursive can_partition function into an iterative one?\n",
    "\n",
    "And while that's very astute of you, nah I'm just gonna cheat.\n",
    "> Pardon?\n",
    "\n",
    "No, you heard (read?) me.\n",
    "\n",
    "You see, there's a very specific reason that I've written the example code the way I have, and it's not because that's how I submitted the code the first time. Like I mentioned at the start of the file, this is a two part problem, but we've been combining them.\n",
    "\n",
    "So what if, for the sake of argument, we changed a line of code? Just one."
   ]
  },
  {
   "cell_type": "code",
   "execution_count": 7,
   "id": "b02679f3-1e0c-4051-ace5-350ebee141fa",
   "metadata": {},
   "outputs": [
    {
     "data": {
      "text/plain": [
       "[1, 9, 10]"
      ]
     },
     "execution_count": 7,
     "metadata": {},
     "output_type": "execute_result"
    }
   ],
   "source": [
    "from functools import cache, partial\n",
    " # <3 u partial\n",
    "mod_filter = partial(filter, lambda x: x % 9 == 0 or x % 9 ==1)\n",
    "\n",
    "def punishment_numbers(n):\n",
    "\n",
    "    @cache\n",
    "    def can_partition(str_num, target):\n",
    "        if str_num=='' and target==0:\n",
    "            return True\n",
    "        if target < 0:\n",
    "            return False \n",
    "\n",
    "        for i in range(len(str_num)):\n",
    "            l_part = str_num[:i+1]\n",
    "            r_part = str_num[i+1:]\n",
    "            target_adjustment = int(l_part)\n",
    "            if can_partition(r_part, target-target_adjustment):\n",
    "                return True\n",
    "        \n",
    "        return False\n",
    "    \n",
    "    def qualify_numbers(n):\n",
    "        for i in mod_filter(range(1, n+1)):\n",
    "            if can_partition(str(i**2), i):\n",
    "                yield i\n",
    "\n",
    "    def square_and_sum(qualified):\n",
    "        return sum(i ** 2 for i in qualified)\n",
    "\n",
    "    return list(qualify_numbers(n))  # This one.\n",
    "\n",
    "punishment_numbers(10)"
   ]
  },
  {
   "cell_type": "markdown",
   "id": "8cdce17e-b603-4182-af60-cda5d6e5b117",
   "metadata": {},
   "source": [
    "If you remember from our constraints: n <= 1000.\n",
    "\n",
    "So what if we just... do them all? What if those numbers were just known? Like, say, *most OEIS sequences*?"
   ]
  },
  {
   "cell_type": "code",
   "execution_count": 8,
   "id": "c912e33c-16d6-4c23-9668-0bae32f2fca3",
   "metadata": {},
   "outputs": [
    {
     "name": "stdout",
     "output_type": "stream",
     "text": [
      "[1, 9, 10, 36, 45]...[964, 990, 991, 999, 1000]\n"
     ]
    }
   ],
   "source": [
    "qualifying = punishment_numbers(1000)\n",
    "print(f\"{qualifying[:5]}...{qualifying[-5:]}\")"
   ]
  },
  {
   "cell_type": "markdown",
   "id": "b48dc8db-6897-4362-942b-23875256aba1",
   "metadata": {},
   "source": [
    "Because if we do that, our function just becomes..."
   ]
  },
  {
   "cell_type": "code",
   "execution_count": 9,
   "id": "2232c8a2-7148-4bed-84ce-2f8a7f12655b",
   "metadata": {},
   "outputs": [
    {
     "data": {
      "text/plain": [
       "182"
      ]
     },
     "execution_count": 9,
     "metadata": {},
     "output_type": "execute_result"
    }
   ],
   "source": [
    "from functools import cache, partial\n",
    " # <3 u partial\n",
    "mod_filter = partial(filter, lambda x: x % 9 == 0 or x % 9 ==1)\n",
    "\n",
    "def punishment_numbers(n):\n",
    "\n",
    "    # @cache\n",
    "    # def can_partition(str_num, target):\n",
    "    #     if str_num=='' and target==0:\n",
    "    #         return True\n",
    "    #     if target < 0:\n",
    "    #         return False \n",
    "\n",
    "    #     for i in range(len(str_num)):\n",
    "    #         l_part = str_num[:i+1]\n",
    "    #         r_part = str_num[i+1:]\n",
    "    #         target_adjustment = int(l_part)\n",
    "    #         if can_partition(r_part, target-target_adjustment):\n",
    "    #             return True\n",
    "        \n",
    "    #     return False\n",
    "    \n",
    "    # def qualify_numbers(n):\n",
    "    #     for i in mod_filter(range(1, n+1)):\n",
    "    #         if can_partition(str(i**2), i):\n",
    "    #             yield i\n",
    "\n",
    "    def square_and_sum(n):\n",
    "        return sum(i ** 2 for i in qualifying if i <= n)\n",
    "\n",
    "    # We don't even need the extra function anymore but I want it there for the sake of\n",
    "    # code continuity.\n",
    "    return square_and_sum(n)\n",
    "\n",
    "punishment_numbers(10)"
   ]
  },
  {
   "cell_type": "code",
   "execution_count": 10,
   "id": "d6b0700d-5d13-4632-8223-43420a947e47",
   "metadata": {},
   "outputs": [],
   "source": [
    "# and NOW we refactor.\n",
    "precomputed = [\n",
    "    1,9,10,36,45,55,82,91,99,100,235,297,369,370,379,\n",
    "    414,657,675,703,756,792,909,918,945,964,990,991,999,1000,\n",
    "]\n",
    "\n",
    "def punishment_number(n):\n",
    "    return sum(i**2 for i in precomputed if i <= n)"
   ]
  },
  {
   "cell_type": "code",
   "execution_count": 11,
   "id": "3829163c-b812-4ea0-94c2-39cc9b879262",
   "metadata": {},
   "outputs": [
    {
     "name": "stdout",
     "output_type": "stream",
     "text": [
      "2.58 μs ± 11.6 ns per loop (mean ± std. dev. of 7 runs, 100,000 loops each)\n"
     ]
    }
   ],
   "source": [
    "%%timeit\n",
    "punishment_numbers(1000)"
   ]
  },
  {
   "cell_type": "markdown",
   "id": "d8454e50-860b-46ad-b3e1-2af48520c40b",
   "metadata": {},
   "source": [
    "Ah, but can we make faster, more unreadable (and therefore better) code? Of course, done here through the power of metaprogramming."
   ]
  },
  {
   "cell_type": "code",
   "execution_count": 12,
   "id": "0f18fe93-f828-4167-9a98-f3b6894ef411",
   "metadata": {},
   "outputs": [
    {
     "name": "stdout",
     "output_type": "stream",
     "text": [
      "if n == 1:\n",
      "\treturn 1\n",
      "elif n <= 9:\n",
      "\treturn 82\n",
      "elif n <= 10:\n",
      "\treturn 182\n",
      "elif n <= 36:\n",
      "\treturn 1478\n",
      "elif n <= 45:\n",
      "\treturn 3503\n",
      "elif n <= 55:\n",
      "\treturn 6528\n",
      "elif n <= 82:\n",
      "\treturn 13252\n",
      "elif n <= 91:\n",
      "\treturn 21533\n",
      "elif n <= 99:\n",
      "\treturn 31334\n",
      "elif n <= 100:\n",
      "\treturn 41334\n",
      "elif n <= 235:\n",
      "\treturn 96559\n",
      "elif n <= 297:\n",
      "\treturn 184768\n",
      "elif n <= 369:\n",
      "\treturn 320929\n",
      "elif n <= 370:\n",
      "\treturn 457829\n",
      "elif n <= 379:\n",
      "\treturn 601470\n",
      "elif n <= 414:\n",
      "\treturn 772866\n",
      "elif n <= 657:\n",
      "\treturn 1204515\n",
      "elif n <= 675:\n",
      "\treturn 1660140\n",
      "elif n <= 703:\n",
      "\treturn 2154349\n",
      "elif n <= 756:\n",
      "\treturn 2725885\n",
      "elif n <= 792:\n",
      "\treturn 3353149\n",
      "elif n <= 909:\n",
      "\treturn 4179430\n",
      "elif n <= 918:\n",
      "\treturn 5022154\n",
      "elif n <= 945:\n",
      "\treturn 5915179\n",
      "elif n <= 964:\n",
      "\treturn 6844475\n",
      "elif n <= 990:\n",
      "\treturn 7824575\n",
      "elif n <= 991:\n",
      "\treturn 8806656\n",
      "elif n <= 999:\n",
      "\treturn 9804657\n",
      "elif n <= 1000:\n",
      "\treturn 10804657\n"
     ]
    }
   ],
   "source": [
    "def punishment_number(n):\n",
    "    return sum(i**2 for i in precomputed if i <= n)\n",
    "\n",
    "def output_punishment():\n",
    "    precomputed = [\n",
    "        1,9,10,36,45,55,82,91,99,100,235,297,369,370,379,\n",
    "        414,657,675,703,756,792,909,918,945,964,990,991,999,1000,\n",
    "    ]\n",
    "\n",
    "    code_out = \"\"\"if n == 1:\\n\\treturn 1\\n\"\"\"\n",
    "    statements = []\n",
    "    for qn in precomputed[1:]:\n",
    "        statements.append(f\"\"\"elif n <= {qn}:\\n\\treturn {punishment_number(qn)}\"\"\")\n",
    "    return code_out + \"\\n\".join(statements)\n",
    "\n",
    "print(output_punishment())"
   ]
  },
  {
   "cell_type": "code",
   "execution_count": 13,
   "id": "72ff4d04-820e-4c44-b432-8cbd82c4cad0",
   "metadata": {},
   "outputs": [],
   "source": [
    "def punishment_number(n):\n",
    "    if n == 1:\n",
    "    \treturn 1\n",
    "    elif n <= 9:\n",
    "    \treturn 82\n",
    "    elif n <= 10:\n",
    "    \treturn 182\n",
    "    elif n <= 36:\n",
    "    \treturn 1478\n",
    "    elif n <= 45:\n",
    "    \treturn 3503\n",
    "    elif n <= 55:\n",
    "    \treturn 6528\n",
    "    elif n <= 82:\n",
    "    \treturn 13252\n",
    "    elif n <= 91:\n",
    "    \treturn 21533\n",
    "    elif n <= 99:\n",
    "    \treturn 31334\n",
    "    elif n <= 100:\n",
    "    \treturn 41334\n",
    "    elif n <= 235:\n",
    "    \treturn 96559\n",
    "    elif n <= 297:\n",
    "    \treturn 184768\n",
    "    elif n <= 369:\n",
    "    \treturn 320929\n",
    "    elif n <= 370:\n",
    "    \treturn 457829\n",
    "    elif n <= 379:\n",
    "    \treturn 601470\n",
    "    elif n <= 414:\n",
    "    \treturn 772866\n",
    "    elif n <= 657:\n",
    "    \treturn 1204515\n",
    "    elif n <= 675:\n",
    "    \treturn 1660140\n",
    "    elif n <= 703:\n",
    "    \treturn 2154349\n",
    "    elif n <= 756:\n",
    "    \treturn 2725885\n",
    "    elif n <= 792:\n",
    "    \treturn 3353149\n",
    "    elif n <= 909:\n",
    "    \treturn 4179430\n",
    "    elif n <= 918:\n",
    "    \treturn 5022154\n",
    "    elif n <= 945:\n",
    "    \treturn 5915179\n",
    "    elif n <= 964:\n",
    "    \treturn 6844475\n",
    "    elif n <= 990:\n",
    "    \treturn 7824575\n",
    "    elif n <= 991:\n",
    "    \treturn 8806656\n",
    "    elif n <= 999:\n",
    "    \treturn 9804657\n",
    "    elif n <= 1000:\n",
    "    \treturn 10804657"
   ]
  },
  {
   "cell_type": "code",
   "execution_count": 14,
   "id": "a5e58130-365b-4b79-9970-43f69d4c6bc9",
   "metadata": {},
   "outputs": [
    {
     "name": "stdout",
     "output_type": "stream",
     "text": [
      "227 ns ± 1.46 ns per loop (mean ± std. dev. of 7 runs, 1,000,000 loops each)\n"
     ]
    }
   ],
   "source": [
    "%%timeit\n",
    "punishment_number(1000)"
   ]
  },
  {
   "cell_type": "markdown",
   "id": "a5f647d8-797c-4b3f-a396-255072bbc714",
   "metadata": {},
   "source": [
    "And THAT, is what you actually put on Leetcode. Completely unreadable garbage code that in any sane world would get you a taking to by HR. But it's so fast. 😇\n",
    "\n",
    "I hate problems like this.\n",
    "\n",
    "Happy coding!"
   ]
  },
  {
   "cell_type": "code",
   "execution_count": null,
   "id": "7ba42f47-d6d7-493b-bc56-ab5794591abb",
   "metadata": {},
   "outputs": [],
   "source": []
  }
 ],
 "metadata": {
  "kernelspec": {
   "display_name": "Python 3 (ipykernel)",
   "language": "python",
   "name": "python3"
  },
  "language_info": {
   "codemirror_mode": {
    "name": "ipython",
    "version": 3
   },
   "file_extension": ".py",
   "mimetype": "text/x-python",
   "name": "python",
   "nbconvert_exporter": "python",
   "pygments_lexer": "ipython3",
   "version": "3.11.4"
  }
 },
 "nbformat": 4,
 "nbformat_minor": 5
}

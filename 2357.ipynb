{
 "cells": [
  {
   "cell_type": "markdown",
   "id": "eb3112d1-7a83-409a-b498-bd6a3e9b66c7",
   "metadata": {},
   "source": [
    "# 2357. Make Array Zero by Subtracting Equal Amounts\n",
    "\n",
    "[Leetcode 2357 Make Array Zero by Subtracting Equal Amounts](https://leetcode.com/problems/make-array-zero-by-subtracting-equal-amounts/description/) is a problem on the [Amazon Questions List](https://leetcode.com/problem-list/7p5x763/?sorting=W3sic29ydE9yZGVyIjoiREVTQ0VORElORyIsIm9yZGVyQnkiOiJGUkVRVUVOQ1kifV0%3D&page=1)\n",
    "\n",
    "## In this notebook\n",
    "\n",
    "We're going to go over all the logic necessary to solve the problem as fast as possible, as well as (some of) the observations required to get there.\n",
    "\n",
    "> You are given a non-negative integer array nums. In one operation, you must:\n",
    ">\n",
    ">    - Choose a positive integer x such that x is less than or equal to the smallest non-zero element in nums.\n",
    ">    - Subtract x from every positive element in nums.\n",
    ">Return the minimum number of operations to make every element in nums equal to 0.\n",
    ">\n",
    "> Constraints:\n",
    ">\n",
    ">    - 1 <= nums.length <= 100\n",
    ">    - 0 <= nums[i] <= 100\n",
    ">\n",
    "\n",
    "There's a couple interesting stipulations here.\n",
    "First, our input list is small. Less than 100 numbers is so small we could easily justify iterating over the list naively.\n",
    "\n",
    "Secondly, no number in the list will exceed 100. This matters less for us because we're using Python, but that would mean that certain languages could get away with 8 bit numbers.\n",
    "\n",
    "> Example 1:\n",
    "> \n",
    ">    - Input: nums = [1,5,0,3,5]\n",
    ">    - Output: 3\n",
    ">\n",
    "> \n",
    "> Example 2:\n",
    "> \n",
    ">    - Input: nums = [0]\n",
    ">    - Output: 0\n",
    "\n",
    "Let's start by making some obervations about these rules and examples.\n",
    "\n",
    "*Observation 1*: An operation is defined by the problem as both choosing the number `x` and subtracting that number from all positive elements in nums. We then have done 1 operation and would count up.\n",
    "\n",
    "In psuedo code, that might look something like this:\n"
   ]
  },
  {
   "cell_type": "code",
   "execution_count": 15,
   "id": "da981d64-40dd-4bbe-a492-8a7de8c30db0",
   "metadata": {},
   "outputs": [],
   "source": [
    "def operation(nums):\n",
    "    \"\"\"\n",
    "    Find x (which is less than or equal to the smallest non-zero element in nums)\n",
    "    Subtract x from all nums\n",
    "    \"\"\"\n",
    "\n",
    "def make_array_zero(nums):\n",
    "    \"\"\"\n",
    "    let operations = 0\n",
    "    while any non-zero num in nums:\n",
    "        do operation(nums)\n",
    "        operations += 1\n",
    "    return operations\n",
    "    \"\"\""
   ]
  },
  {
   "cell_type": "markdown",
   "id": "3fb07ec5-fece-4236-831b-9cf8972b6cab",
   "metadata": {},
   "source": [
    "Before writing any code, let's consider how we could find `x`. \n",
    "\n",
    "Let's inspect that first rule again:\n",
    "> Choose a positive integer x such that x is less than or equal to the smallest non-zero element in nums.\n",
    " \n",
    "### Question: Does it make sense to ever pick an element smaller than the smallest non-zero element?\n",
    "Walking through Example 1:\n",
    "```python\n",
    "nums = [1,5,0,3,5]\n",
    "# For our first choice, we must pick 1. (1 <= 1 && 1 != 0)\n",
    "# After we complete operation(nums), we now have\n",
    "nums = [0, 4, 0, 2, 4]\n",
    "#What if we choose 1 again? Then we would have\n",
    "# nums = [0, 3, 0, 1, 4]\n",
    "# ...Forcing us to choose 1 again. If we had picked 2, we would have saved an operation in the final output.\n",
    "```\n",
    "### Conclusion:\n",
    "*There is no reason to ever pick an element smaller than the smallest element.*\n",
    "\n",
    "We should pick the smallest element, whatever it is. Let's code that up, remembering that the size of nums is supposed to be small."
   ]
  },
  {
   "cell_type": "code",
   "execution_count": 16,
   "id": "08d70736-3d0a-4cc5-a060-a12d34422b48",
   "metadata": {},
   "outputs": [
    {
     "name": "stdout",
     "output_type": "stream",
     "text": [
      "[1, 5, 0, 3, 5]\n",
      "3\n",
      "[0]\n",
      "0\n",
      "[0, 1, 2, 3, 4, 5, 6, 7, 8, 9]\n",
      "9\n"
     ]
    }
   ],
   "source": [
    "def operation(nums):\n",
    "    def get_smallest_non_zero(nums):\n",
    "        # constraint from our input size. Doesn't really matter what it is as long as it's at least as big as that.\n",
    "        smallest = 100 \n",
    "        \n",
    "        for n in nums:\n",
    "            if n > 0 and n <= smallest:\n",
    "                smallest = n\n",
    "        return smallest\n",
    "    \n",
    "    assert nums\n",
    "\n",
    "    x = get_smallest_non_zero(nums) # We can't use min since it will return 0. Hmm.\n",
    "    operated_list = []\n",
    "    \n",
    "    for n in nums:\n",
    "        value = 0\n",
    "        if x <= n:\n",
    "            value = n - x\n",
    "        operated_list.append(value)\n",
    "    return operated_list\n",
    "\n",
    "def make_array_zero(nums):\n",
    "    operations = 0\n",
    "\n",
    "    while any(nums):\n",
    "        nums = operation(nums)\n",
    "        operations += 1\n",
    "    return operations\n",
    "\n",
    "tests = [\n",
    "    [1,5,0,3,5],\n",
    "    [0],\n",
    "    [0,1,2,3,4,5,6,7,8,9,],\n",
    "]\n",
    "\n",
    "for test in tests:\n",
    "    print(f\"{test}\")\n",
    "    print(make_array_zero(test[:]))\n"
   ]
  },
  {
   "cell_type": "markdown",
   "id": "5548d6e6-2fdc-4e06-9b15-55616b8b6b5d",
   "metadata": {},
   "source": [
    "### What next?\n",
    "\n",
    "The real question of the problem is \"What is the best way to find the minimum element, so that we can subtract it from the other elements?\"\n",
    "\n",
    "At this point, there are several reasonable ways to go about finding `x` and solving the problem. \n",
    "\n",
    "- Sort the input (remember, the length of nums is guaranteed to be small)\n",
    "- Use some sort of data structure, like a heap, to maintain an invariant for us so it's easier to count operations and solve the problem.\n",
    "\n",
    "We're going to go with option 2 for this notebook. \n",
    "\n",
    "There's a minor hiccup here, which is that 0 is the smallest number in the heap. We'll have to do something about that. What if we just... removed them?\n",
    "\n",
    "(That's forshadowing for later.)"
   ]
  },
  {
   "cell_type": "code",
   "execution_count": 17,
   "id": "1714c1b4-0b7d-45fe-b809-124dbf9fcf4a",
   "metadata": {},
   "outputs": [
    {
     "name": "stdout",
     "output_type": "stream",
     "text": [
      "[1, 5, 0, 3, 5]\n",
      "3\n",
      "[0]\n",
      "0\n",
      "[0, 1, 2, 3, 4, 5, 6, 7, 8, 9]\n",
      "9\n"
     ]
    }
   ],
   "source": [
    "import heapq # https://docs.python.org/3/library/heapq.html\n",
    "\n",
    "def operation(nums):\n",
    "    assert nums\n",
    "\n",
    "    while nums[0] == 0:\n",
    "        heapq.heappop(nums)\n",
    "    x = heapq.heappop(nums)\n",
    "\n",
    "    operated_list = []\n",
    "    assert 0 not in nums\n",
    "    for n in nums:\n",
    "        assert x <= n, f\"x: {x}, n: {n}\"\n",
    "\n",
    "        value = 0\n",
    "        if x <= n:\n",
    "            value = n - x    \n",
    "        operated_list.append(value)\n",
    "    return operated_list\n",
    "\n",
    "def make_array_zero(nums):\n",
    "    operations = 0\n",
    "    heapq.heapify(nums)\n",
    "    while any(nums):\n",
    "        nums = operation(nums)\n",
    "        operations += 1\n",
    "    return operations\n",
    "\n",
    "tests = [\n",
    "    [1,5,0,3,5],\n",
    "    [0],\n",
    "    [0,1,2,3,4,5,6,7,8,9,],\n",
    "]\n",
    "\n",
    "for test in tests:\n",
    "    print(f\"{test}\")\n",
    "    print(make_array_zero(test[:]))\n"
   ]
  },
  {
   "cell_type": "markdown",
   "id": "329b9c98-788f-480e-a67a-3931dac0fc48",
   "metadata": {},
   "source": [
    "### Those Pesky Zeros\n",
    "\n",
    "This *works*, or at least the idea does, but it's kinda weird that we're forced to remove the 0s like that every time.\n",
    "\n",
    "Actually, why add on the new 0's we created at all? Do they matter? The only thing we care about is the number of times we call the `operation` function, right?\n",
    "\n",
    "(Right)\n",
    "\n",
    "So we don't care about the 0's *at all*. We can condense our previous code."
   ]
  },
  {
   "cell_type": "code",
   "execution_count": 18,
   "id": "64862bbe-be08-4b18-9ced-a07c09f9ab46",
   "metadata": {},
   "outputs": [
    {
     "name": "stdout",
     "output_type": "stream",
     "text": [
      "[1, 5, 0, 3, 5]\n",
      "3\n",
      "[0]\n",
      "0\n",
      "[0, 1, 2, 3, 4, 5, 6, 7, 8, 9]\n",
      "9\n"
     ]
    }
   ],
   "source": [
    "def operation(nums):\n",
    "    assert nums\n",
    "    x = heapq.heappop(nums)\n",
    "    operated_list = []\n",
    "    for n in nums:\n",
    "        assert x <= n, f\"x: {x}, n: {n}\"\n",
    "        if n - x > 0:\n",
    "            heapq.heappush(operated_list, (n - x))\n",
    "    return operated_list\n",
    "\n",
    "def make_array_zero(nums):\n",
    "    operations = 0\n",
    "    nums = [n for n in nums if n > 0]\n",
    "    heapq.heapify(nums)\n",
    "    while nums:\n",
    "        operations += 1\n",
    "        nums = operation(nums)\n",
    "    return operations\n",
    "\n",
    "for test in tests:\n",
    "    print(f\"{test}\")\n",
    "    print(make_array_zero(test[:]))"
   ]
  },
  {
   "cell_type": "markdown",
   "id": "57250fcf-956d-4665-acbe-1f59fba58ab6",
   "metadata": {},
   "source": [
    "But, hold on. Did you notice something odd about the third example? Actually, that first one too!\n",
    "\n",
    "The output is actually the number of non-zero elements in the list. In fact, that's true for all of them. It's just more obvious because that one is sorted.\n",
    "\n",
    "*Observation 2*: We solved it above by knowing the smallest number in the list and decrementing every other number. That means we had to know every number at some point. We've actually known this since our brute force version!\n",
    "\n",
    "*Observation 3*: We could change `operation(nums)` to instead just remove all instances of `x` and return the list and it would be the same result."
   ]
  },
  {
   "cell_type": "code",
   "execution_count": 19,
   "id": "1a9c65dd-68e3-445a-a171-39de964d775f",
   "metadata": {},
   "outputs": [
    {
     "name": "stdout",
     "output_type": "stream",
     "text": [
      "[1, 5, 0, 3, 5]\n",
      "3\n",
      "[0]\n",
      "0\n",
      "[0, 1, 2, 3, 4, 5, 6, 7, 8, 9]\n",
      "9\n"
     ]
    }
   ],
   "source": [
    "def operation(nums):\n",
    "    assert nums\n",
    "    x = heapq.heappop(nums)\n",
    "    operated_list = []\n",
    "    for n in nums:\n",
    "        if x != n:\n",
    "            heapq.heappush(operated_list, n)\n",
    "    return operated_list\n",
    "\n",
    "for test in tests:\n",
    "    print(f\"{test}\")\n",
    "    print(make_array_zero(test[:]))"
   ]
  },
  {
   "cell_type": "markdown",
   "id": "78a883db-5724-4e2e-9227-63adddcefc1a",
   "metadata": {},
   "source": [
    "*Observation 4*: Not counting duplicates is strikingly similar to how sets work.\n",
    "\n",
    "*Observation 5*: Since we don't care about either 0's OR duplicates, the minimum number of ops is the number of unique non-zero elements in the list.\n",
    "\n",
    "We can now further improve our logic to something like this. We now no longer care about the ordering, because we're switching to a set."
   ]
  },
  {
   "cell_type": "code",
   "execution_count": 20,
   "id": "19e9c9b2-d43e-4e8b-9d08-eea58ff3a0cd",
   "metadata": {},
   "outputs": [
    {
     "name": "stdout",
     "output_type": "stream",
     "text": [
      "[1, 5, 0, 3, 5]\n",
      "3\n",
      "[0]\n",
      "0\n",
      "[0, 1, 2, 3, 4, 5, 6, 7, 8, 9]\n",
      "9\n"
     ]
    }
   ],
   "source": [
    "def make_array_zero(nums):\n",
    "    operations = set()\n",
    "    for n in nums:\n",
    "        if n > 0:\n",
    "            operations.add(n)\n",
    "    return len(operations)\n",
    "\n",
    "for test in tests:\n",
    "    print(f\"{test}\")\n",
    "    print(make_array_zero(test[:]))\n"
   ]
  },
  {
   "cell_type": "markdown",
   "id": "3b205ddb-b4cf-411f-bdfb-f870ad8b823e",
   "metadata": {},
   "source": [
    "Finally, we can optimize. An optimal solution looks something like the cell below.\n",
    "\n",
    "There's no longer an explicit call to our `operation()`, it's now implicit in the call."
   ]
  },
  {
   "cell_type": "code",
   "execution_count": 21,
   "id": "958ec7bc-cda2-49f8-a827-9840f8368287",
   "metadata": {},
   "outputs": [
    {
     "name": "stdout",
     "output_type": "stream",
     "text": [
      "[1, 5, 0, 3, 5]\n",
      "3\n",
      "[0]\n",
      "0\n",
      "[0, 1, 2, 3, 4, 5, 6, 7, 8, 9]\n",
      "9\n"
     ]
    }
   ],
   "source": [
    "def make_array_zero(nums):\n",
    "    unique_nums = set(nums)\n",
    "    return len(unique_nums) - 1 if 0 in unique_nums else len(unique_nums)\n",
    "\n",
    "tests = [\n",
    "    [1,5,0,3,5],\n",
    "    [0],\n",
    "    [0,1,2,3,4,5,6,7,8,9,],\n",
    "]\n",
    "\n",
    "for test in tests:\n",
    "    print(f\"{test}\")\n",
    "    print(make_array_zero(test[:]))"
   ]
  },
  {
   "cell_type": "markdown",
   "id": "c64780dd-3689-430a-8f78-952c546b6d04",
   "metadata": {},
   "source": [
    "### On Optimization\n",
    "There's an extremely subtle optimization (that doesn't matter) in our last code block. It is faster to indiscriminately add everything to the set and then check the set members for 0 than it would be to check every number going in.\n",
    "\n",
    "### Playground\n",
    "While the original problem calls for only 100 numbers with all being no more than 100, our code will still work for much bigger numbers."
   ]
  },
  {
   "cell_type": "code",
   "execution_count": 22,
   "id": "339c647a-45eb-4555-8b13-8a9a75525a58",
   "metadata": {},
   "outputs": [
    {
     "name": "stdout",
     "output_type": "stream",
     "text": [
      "[1, 5, 0, 3, 5]\n",
      "3\n",
      "[0]\n",
      "0\n",
      "[0, 1, 2, 3, 4, 5, 6, 7, 8, 9]\n",
      "9\n",
      "[0, 0, 0, 0, 0, 0, 0, 0, 0, 0]...\n",
      "0\n",
      "[0, 2, 4, 6, 8, 10, 12, 14, 16, 18]...\n",
      "49\n",
      "[1, 2, 3, 4, 5, 6, 7, 8, 9, 10]...\n",
      "999999\n"
     ]
    }
   ],
   "source": [
    "def output_tests():\n",
    "    for test in tests:\n",
    "        # These 10s here are arbitrary. You can put in whatever you like.\n",
    "        test_str = f\"{test}\" if len(test) <= 10 else f\"{test[:10]}...\"\n",
    "        print(test_str)\n",
    "        print(make_array_zero(test[:]))\n",
    "\n",
    "tests = [\n",
    "    [1,5,0,3,5],\n",
    "    [0],\n",
    "    [0,1,2,3,4,5,6,7,8,9,],\n",
    "    [0,0,0,0,0,0,0,0,0,0,0,0,0,0,0,0,0,0,0,0,0,0,0,0,0,0,0,0,0,0,0,0,0,0,0,0,0,0,0,0,0,0,0,0,0,0,0,0,0,0,0,0,0,0,0,0,0,0,0,0,0,0,0,0,0,0,0,0,0,0,0,0,0,0,0,0,0,0,0,0,0,0,0,0,0,0,0,0,0,0,0,0,0,0,0,0,0,0,0,0,0,0,0,0,0,0,0,0,0,0,0,0,0,0,0,0,0,0,0,0,0,],\n",
    "    [i for i in range(0, 100, 2)],\n",
    "    [i for i in range(1, 1_000_000, 1)],\n",
    "]\n",
    "\n",
    "output_tests()\n",
    "    "
   ]
  },
  {
   "cell_type": "markdown",
   "id": "8c38368f-324c-45ef-84c0-acf4cb8caf40",
   "metadata": {},
   "source": [
    "### Alternate - Sorting Method\n",
    "\n",
    "While not strictly necessary to understand that this was actually set math masquerading as a coding problem, here is code that will work if you sort the input. This version also works around the problem of 0 being the min by removing it, but you could use `get_smallest_non_zero(nums)` for this as well."
   ]
  },
  {
   "cell_type": "code",
   "execution_count": 24,
   "id": "f514cef2-0713-4e82-b8cc-00dce2d014db",
   "metadata": {},
   "outputs": [
    {
     "name": "stdout",
     "output_type": "stream",
     "text": [
      "[1, 5, 0, 3, 5]\n",
      "3\n",
      "[0]\n",
      "0\n",
      "[0, 1, 2, 3, 4, 5, 6, 7, 8, 9]\n",
      "9\n"
     ]
    }
   ],
   "source": [
    "def operation(nums):\n",
    "    assert nums\n",
    "    x = nums[0]\n",
    "    assert min(nums) == x\n",
    "    return [n - x for n in nums if n - x > 0]\n",
    "\n",
    "def make_array_zero(nums):\n",
    "    operations = 0\n",
    "    nums.sort()\n",
    "    nums = [n for n in nums if n > 0]\n",
    "    while nums:\n",
    "        operations += 1\n",
    "        nums = operation(nums)\n",
    "    return operations\n",
    "\n",
    "tests = [\n",
    "    [1,5,0,3,5],\n",
    "    [0],\n",
    "    [0,1,2,3,4,5,6,7,8,9,],\n",
    "]\n",
    "\n",
    "for test in tests:\n",
    "    print(f\"{test}\")\n",
    "    print(make_array_zero(test[:]))"
   ]
  },
  {
   "cell_type": "markdown",
   "id": "254fe972-fc3b-48d0-af9c-125f3f1a88c6",
   "metadata": {},
   "source": [
    "A couple things to note about this solution:\n",
    "\n",
    "- If we change the list to not be sorted by no longer calling `nums.sort()`, we can simply change the list comprehension in operation to `return [n for n in nums if n != x]`\n",
    "- Further optimizations will take us down set math which should lead to the one-line solution above."
   ]
  },
  {
   "cell_type": "markdown",
   "id": "fb834bef-6f93-4ffc-a3d3-65bb21904c36",
   "metadata": {},
   "source": [
    "# Happy coding!"
   ]
  }
 ],
 "metadata": {
  "kernelspec": {
   "display_name": "Python 3 (ipykernel)",
   "language": "python",
   "name": "python3"
  },
  "language_info": {
   "codemirror_mode": {
    "name": "ipython",
    "version": 3
   },
   "file_extension": ".py",
   "mimetype": "text/x-python",
   "name": "python",
   "nbconvert_exporter": "python",
   "pygments_lexer": "ipython3",
   "version": "3.11.4"
  }
 },
 "nbformat": 4,
 "nbformat_minor": 5
}
